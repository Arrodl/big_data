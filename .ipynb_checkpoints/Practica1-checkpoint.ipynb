{
 "cells": [
  {
   "cell_type": "code",
   "execution_count": 1,
   "metadata": {},
   "outputs": [],
   "source": [
    "# Practica 1: Analisis de grandes volumenes de datos\n",
    "\n",
    "# Autor: Alfonso Reyna Cerón\n",
    "\n",
    "import matplotlib.pyplot as plt\n",
    "\n",
    "# Abrir el archivo de texto en modo lectura\n",
    "text_file = open(\"palabras.txt\",\"r\")"
   ]
  },
  {
   "cell_type": "markdown",
   "metadata": {},
   "source": [
    "Leo el archivo de texto y asigno su contenido a la variable text"
   ]
  },
  {
   "cell_type": "code",
   "execution_count": 2,
   "metadata": {},
   "outputs": [],
   "source": [
    "text = text_file.read()"
   ]
  },
  {
   "cell_type": "markdown",
   "metadata": {},
   "source": [
    "Creo un arreglo de todas las palabras contenidas en el archivo"
   ]
  },
  {
   "cell_type": "code",
   "execution_count": 3,
   "metadata": {},
   "outputs": [],
   "source": [
    "word_array = text.split('\\n')"
   ]
  },
  {
   "cell_type": "markdown",
   "metadata": {},
   "source": [
    "Cantidad total de palabras"
   ]
  },
  {
   "cell_type": "code",
   "execution_count": 4,
   "metadata": {},
   "outputs": [
    {
     "name": "stdout",
     "output_type": "stream",
     "text": [
      "113810\n"
     ]
    }
   ],
   "source": [
    "# Print count of words\n",
    "total_count = len(word_array)\n",
    "\n",
    "print(total_count)"
   ]
  },
  {
   "cell_type": "markdown",
   "metadata": {},
   "source": [
    "Esta funcion de termina s una palabra tiene o no la letra e incluida y de ser así aumenta el contador de palabras con e y si no aumenta el contador de las palabras que no lo tiene\n",
    "\n",
    "Para cada palabra tambien evalua si su longitud es mayor que 20"
   ]
  },
  {
   "cell_type": "code",
   "execution_count": 5,
   "metadata": {},
   "outputs": [
    {
     "name": "stdout",
     "output_type": "stream",
     "text": [
      "Palabras que contienen e\n",
      "76168\n",
      "Palabras que no contienen e\n",
      "37642\n",
      "Palabras con longitud mayor a 20\n",
      "3\n"
     ]
    }
   ],
   "source": [
    "# Two variables control variables\n",
    "count_words_that_contain_e = 0\n",
    "count_words_that_does_not_contain_e = 0\n",
    "words_bigger_than_20 = 0\n",
    "\n",
    "for word in word_array:\n",
    "    if \"e\" in word:\n",
    "        count_words_that_contain_e += 1\n",
    "    else:\n",
    "        count_words_that_does_not_contain_e += 1\n",
    "    if len(word) > 20:\n",
    "        words_bigger_than_20 += 1\n",
    "        \n",
    "print(\"Palabras que contienen e\")\n",
    "print(count_words_that_contain_e)\n",
    "print(\"Palabras que no contienen e\")\n",
    "print(count_words_that_does_not_contain_e)\n",
    "print(\"Palabras con longitud mayor a 20\")\n",
    "print(words_bigger_than_20)"
   ]
  },
  {
   "cell_type": "markdown",
   "metadata": {},
   "source": [
    "Creo dos labels para la grafica y le doy el total de contadores a plt como parametro"
   ]
  },
  {
   "cell_type": "code",
   "execution_count": 6,
   "metadata": {},
   "outputs": [
    {
     "data": {
      "image/png": "[encoded data removed]",
      "text/plain": [
       "<Figure size 432x288 with 1 Axes>"
      ]
     },
     "metadata": {},
     "output_type": "display_data"
    }
   ],
   "source": [
    "# Data to plot\n",
    "labels = 'Con e', 'Sin e'\n",
    "sizes = [count_words_that_contain_e, count_words_that_does_not_contain_e]\n",
    "colors = ['gold', 'blue']\n",
    "explode = (0.1, 0)  # explode 1st slice\n",
    " \n",
    "# Plot\n",
    "plt.pie(sizes, explode=explode, labels=labels, colors=colors, autopct='%1.1f%%')\n",
    " \n",
    "plt.axis('equal')\n",
    "plt.show()"
   ]
  },
  {
   "cell_type": "markdown",
   "metadata": {},
   "source": [
    "Creo un diccionario de longitudes a las cuales se le asigna el contador de elementos para cada una, si la llave existe en el diccionario aumento el contador y si no creo la llave y le asigno el valor 1"
   ]
  },
  {
   "cell_type": "code",
   "execution_count": 7,
   "metadata": {},
   "outputs": [],
   "source": [
    "# Grraficar y agrupar palabras por longitud\n",
    "length_array = {}\n",
    "\n",
    "for word in word_array:\n",
    "    length = len(word)\n",
    "    if length in length_array:\n",
    "        length_array[length] += 1\n",
    "    else:\n",
    "        length_array[length] = 1\n"
   ]
  },
  {
   "cell_type": "markdown",
   "metadata": {},
   "source": [
    "Uso las llaves como labels y los valores como datos para generar otra grafica de pie"
   ]
  },
  {
   "cell_type": "code",
   "execution_count": 10,
   "metadata": {
    "scrolled": true
   },
   "outputs": [
    {
     "ename": "NameError",
     "evalue": "name 'labelsm' is not defined",
     "output_type": "error",
     "traceback": [
      "\u001b[0;31m---------------------------------------------------------------------------\u001b[0m",
      "\u001b[0;31mNameError\u001b[0m                                 Traceback (most recent call last)",
      "\u001b[0;32m<ipython-input-10-bf1afb54479c>\u001b[0m in \u001b[0;36m<module>\u001b[0;34m\u001b[0m\n\u001b[1;32m      2\u001b[0m \u001b[0msizes\u001b[0m \u001b[0;34m=\u001b[0m \u001b[0mlist\u001b[0m\u001b[0;34m(\u001b[0m\u001b[0mlength_array\u001b[0m\u001b[0;34m.\u001b[0m\u001b[0mvalues\u001b[0m\u001b[0;34m(\u001b[0m\u001b[0;34m)\u001b[0m\u001b[0;34m)\u001b[0m\u001b[0;34m\u001b[0m\u001b[0;34m\u001b[0m\u001b[0m\n\u001b[1;32m      3\u001b[0m \u001b[0;34m\u001b[0m\u001b[0m\n\u001b[0;32m----> 4\u001b[0;31m \u001b[0mplt\u001b[0m\u001b[0;34m.\u001b[0m\u001b[0mpie\u001b[0m\u001b[0;34m(\u001b[0m\u001b[0msizes\u001b[0m\u001b[0;34m,\u001b[0m \u001b[0mlabels\u001b[0m\u001b[0;34m=\u001b[0m\u001b[0mlabelsm\u001b[0m\u001b[0;34m,\u001b[0m \u001b[0mautopct\u001b[0m\u001b[0;34m=\u001b[0m\u001b[0;34m'%1.1f%%'\u001b[0m\u001b[0;34m)\u001b[0m\u001b[0;34m\u001b[0m\u001b[0;34m\u001b[0m\u001b[0m\n\u001b[0m\u001b[1;32m      5\u001b[0m \u001b[0mplt\u001b[0m\u001b[0;34m.\u001b[0m\u001b[0maxis\u001b[0m\u001b[0;34m(\u001b[0m\u001b[0;34m'equal'\u001b[0m\u001b[0;34m)\u001b[0m\u001b[0;34m\u001b[0m\u001b[0;34m\u001b[0m\u001b[0m\n\u001b[1;32m      6\u001b[0m \u001b[0mplt\u001b[0m\u001b[0;34m.\u001b[0m\u001b[0mshow\u001b[0m\u001b[0;34m(\u001b[0m\u001b[0;34m)\u001b[0m\u001b[0;34m\u001b[0m\u001b[0;34m\u001b[0m\u001b[0m\n",
      "\u001b[0;31mNameError\u001b[0m: name 'labelsm' is not defined"
     ]
    }
   ],
   "source": [
    "labels = list(length_array.keys())\n",
    "sizes = list(length_array.values())\n",
    "\n",
    "plt.pie(sizes, labels=labelsm, autopct='%1.1f%%')\n",
    "plt.axis('equal')\n",
    "plt.show()"
   ]
  },
  {
   "cell_type": "code",
   "execution_count": null,
   "metadata": {},
   "outputs": [],
   "source": []
  }
 ],
 "metadata": {
  "kernelspec": {
   "display_name": "Python 3",
   "language": "python",
   "name": "python3"
  },
  "language_info": {
   "codemirror_mode": {
    "name": "ipython",
    "version": 3
   },
   "file_extension": ".py",
   "mimetype": "text/x-python",
   "name": "python",
   "nbconvert_exporter": "python",
   "pygments_lexer": "ipython3",
   "version": "3.7.3"
  }
 },
 "nbformat": 4,
 "nbformat_minor": 2
}
