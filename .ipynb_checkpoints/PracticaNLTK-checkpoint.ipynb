{
 "cells": [
  {
   "cell_type": "code",
   "execution_count": 1,
   "metadata": {},
   "outputs": [
    {
     "name": "stderr",
     "output_type": "stream",
     "text": [
      "[nltk_data] Downloading package punkt to\n",
      "[nltk_data]     /Users/alfonsoreyna/nltk_data...\n",
      "[nltk_data]   Package punkt is already up-to-date!\n"
     ]
    }
   ],
   "source": [
    "import nltk\n",
    "nltk.download('punkt')\n",
    "from nltk.tokenize import sent_tokenize\n",
    "import matplotlib.pyplot as plt"
   ]
  },
  {
   "cell_type": "code",
   "execution_count": 2,
   "metadata": {},
   "outputs": [],
   "source": [
    "sample_text = \"This was not because he was cowardly and abject, quite the contrary; but for some time past he had been in an overstrained irritable condition, verging on hypochondria. He had become so completely absorbed in himself, and isolated from his fellows that he dreaded meeting, not only his landlady, but anyone at all. He was crushed by poverty, but the anxieties of his position had of late ceased to weigh upon him. He had given up attending to matters of practical importance; he had lost all desire to do so. Nothing that any landlady could do had a real terror for him. But to be stopped on the stairs, to be forced to listen to her trivial, irrelevant gossip, to pestering demands for payment, threats and complaints, and to rack his brains for excuses, to prevaricate, to lie no, rather than that, he would creep down the stairs like a cat and slip out unseen.\""
   ]
  },
  {
   "cell_type": "code",
   "execution_count": 3,
   "metadata": {},
   "outputs": [
    {
     "name": "stdout",
     "output_type": "stream",
     "text": [
      "This was not because he was cowardly and abject, quite the contrary; but for some time past he had been in an overstrained irritable condition, verging on hypochondria. He had become so completely absorbed in himself, and isolated from his fellows that he dreaded meeting, not only his landlady, but anyone at all. He was crushed by poverty, but the anxieties of his position had of late ceased to weigh upon him. He had given up attending to matters of practical importance; he had lost all desire to do so. Nothing that any landlady could do had a real terror for him. But to be stopped on the stairs, to be forced to listen to her trivial, irrelevant gossip, to pestering demands for payment, threats and complaints, and to rack his brains for excuses, to prevaricate, to lie no, rather than that, he would creep down the stairs like a cat and slip out unseen.\n"
     ]
    }
   ],
   "source": [
    "print(sample_text)"
   ]
  },
  {
   "cell_type": "markdown",
   "metadata": {},
   "source": [
    "Elimino valores redundantes del texto"
   ]
  },
  {
   "cell_type": "code",
   "execution_count": 4,
   "metadata": {},
   "outputs": [],
   "source": [
    "clean_text = sample_text.replace(',', '').replace(';', '').replace('.', '')"
   ]
  },
  {
   "cell_type": "markdown",
   "metadata": {},
   "source": [
    "Obtengo un arreglo de palabras con el cual puedo solo hacer un count para saber cuantas palabras hay"
   ]
  },
  {
   "cell_type": "code",
   "execution_count": 5,
   "metadata": {},
   "outputs": [
    {
     "name": "stdout",
     "output_type": "stream",
     "text": [
      "155\n"
     ]
    }
   ],
   "source": [
    "word_arr = clean_text.split(' ')\n",
    "print(len(word_arr))"
   ]
  },
  {
   "cell_type": "code",
   "execution_count": 6,
   "metadata": {},
   "outputs": [],
   "source": [
    "# Usando la libreria\n",
    "words = nltk.word_tokenize(clean_text)"
   ]
  },
  {
   "cell_type": "code",
   "execution_count": 7,
   "metadata": {},
   "outputs": [
    {
     "name": "stdout",
     "output_type": "stream",
     "text": [
      "155\n"
     ]
    }
   ],
   "source": [
    "print(len(words))"
   ]
  },
  {
   "cell_type": "code",
   "execution_count": 8,
   "metadata": {},
   "outputs": [
    {
     "name": "stdout",
     "output_type": "stream",
     "text": [
      "['This', 'was', 'not', 'because', 'he', 'was', 'cowardly', 'and', 'abject', 'quite', 'the', 'contrary', 'but', 'for', 'some', 'time', 'past', 'he', 'had', 'been', 'in', 'an', 'overstrained', 'irritable', 'condition', 'verging', 'on', 'hypochondria', 'He', 'had', 'become', 'so', 'completely', 'absorbed', 'in', 'himself', 'and', 'isolated', 'from', 'his', 'fellows', 'that', 'he', 'dreaded', 'meeting', 'not', 'only', 'his', 'landlady', 'but', 'anyone', 'at', 'all', 'He', 'was', 'crushed', 'by', 'poverty', 'but', 'the', 'anxieties', 'of', 'his', 'position', 'had', 'of', 'late', 'ceased', 'to', 'weigh', 'upon', 'him', 'He', 'had', 'given', 'up', 'attending', 'to', 'matters', 'of', 'practical', 'importance', 'he', 'had', 'lost', 'all', 'desire', 'to', 'do', 'so', 'Nothing', 'that', 'any', 'landlady', 'could', 'do', 'had', 'a', 'real', 'terror', 'for', 'him', 'But', 'to', 'be', 'stopped', 'on', 'the', 'stairs', 'to', 'be', 'forced', 'to', 'listen', 'to', 'her', 'trivial', 'irrelevant', 'gossip', 'to', 'pestering', 'demands', 'for', 'payment', 'threats', 'and', 'complaints', 'and', 'to', 'rack', 'his', 'brains', 'for', 'excuses', 'to', 'prevaricate', 'to', 'lie', 'no', 'rather', 'than', 'that', 'he', 'would', 'creep', 'down', 'the', 'stairs', 'like', 'a', 'cat', 'and', 'slip', 'out', 'unseen']\n"
     ]
    }
   ],
   "source": [
    "print(words)"
   ]
  },
  {
   "cell_type": "code",
   "execution_count": 9,
   "metadata": {},
   "outputs": [],
   "source": [
    "sentences = sent_tokenize(sample_text)"
   ]
  },
  {
   "cell_type": "code",
   "execution_count": 10,
   "metadata": {},
   "outputs": [
    {
     "name": "stdout",
     "output_type": "stream",
     "text": [
      "6\n"
     ]
    }
   ],
   "source": [
    "# Numero de oraciónes en el texto\n",
    "print(len(sentences))"
   ]
  },
  {
   "cell_type": "code",
   "execution_count": 16,
   "metadata": {},
   "outputs": [
    {
     "name": "stdout",
     "output_type": "stream",
     "text": [
      "dict_items([('This', 1), ('was', 3), ('not', 2), ('because', 1), ('he', 5), ('cowardly', 1), ('and', 5), ('abject', 1), ('quite', 1), ('the', 4), ('contrary', 1), ('but', 3), ('for', 4), ('some', 1), ('time', 1), ('past', 1), ('had', 6), ('been', 1), ('in', 2), ('an', 1), ('overstrained', 1), ('irritable', 1), ('condition', 1), ('verging', 1), ('on', 2), ('hypochondria', 1), ('He', 3), ('become', 1), ('so', 2), ('completely', 1), ('absorbed', 1), ('himself', 1), ('isolated', 1), ('from', 1), ('his', 4), ('fellows', 1), ('that', 3), ('dreaded', 1), ('meeting', 1), ('only', 1), ('landlady', 2), ('anyone', 1), ('at', 1), ('all', 2), ('crushed', 1), ('by', 1), ('poverty', 1), ('anxieties', 1), ('of', 3), ('position', 1), ('late', 1), ('ceased', 1), ('to', 11), ('weigh', 1), ('upon', 1), ('him', 2), ('given', 1), ('up', 1), ('attending', 1), ('matters', 1), ('practical', 1), ('importance', 1), ('lost', 1), ('desire', 1), ('do', 2), ('Nothing', 1), ('any', 1), ('could', 1), ('a', 2), ('real', 1), ('terror', 1), ('But', 1), ('be', 2), ('stopped', 1), ('stairs', 2), ('forced', 1), ('listen', 1), ('her', 1), ('trivial', 1), ('irrelevant', 1), ('gossip', 1), ('pestering', 1), ('demands', 1), ('payment', 1), ('threats', 1), ('complaints', 1), ('rack', 1), ('brains', 1), ('excuses', 1), ('prevaricate', 1), ('lie', 1), ('no', 1), ('rather', 1), ('than', 1), ('would', 1), ('creep', 1), ('down', 1), ('like', 1), ('cat', 1), ('slip', 1), ('out', 1), ('unseen', 1)])\n",
      "dict_items([('This', 1), ('was', 3), ('not', 2), ('because', 1), ('he', 5), ('cowardly', 1), ('and', 5), ('abject', 1), ('quite', 1), ('the', 4), ('contrary', 1), ('but', 3), ('for', 4), ('some', 1), ('time', 1), ('past', 1), ('had', 6), ('been', 1), ('in', 2), ('an', 1), ('overstrained', 1), ('irritable', 1), ('condition', 1), ('verging', 1), ('on', 2), ('hypochondria', 1), ('He', 3), ('become', 1), ('so', 2), ('completely', 1), ('absorbed', 1), ('himself', 1), ('isolated', 1), ('from', 1), ('his', 4), ('fellows', 1), ('that', 3), ('dreaded', 1), ('meeting', 1), ('only', 1), ('landlady', 2), ('anyone', 1), ('at', 1), ('all', 2), ('crushed', 1), ('by', 1), ('poverty', 1), ('anxieties', 1), ('of', 3), ('position', 1), ('late', 1), ('ceased', 1), ('to', 11), ('weigh', 1), ('upon', 1), ('him', 2), ('given', 1), ('up', 1), ('attending', 1), ('matters', 1), ('practical', 1), ('importance', 1), ('lost', 1), ('desire', 1), ('do', 2), ('Nothing', 1), ('any', 1), ('could', 1), ('a', 2), ('real', 1), ('terror', 1), ('But', 1), ('be', 2), ('stopped', 1), ('stairs', 2), ('forced', 1), ('listen', 1), ('her', 1), ('trivial', 1), ('irrelevant', 1), ('gossip', 1), ('pestering', 1), ('demands', 1), ('payment', 1), ('threats', 1), ('complaints', 1), ('rack', 1), ('brains', 1), ('excuses', 1), ('prevaricate', 1), ('lie', 1), ('no', 1), ('rather', 1), ('than', 1), ('would', 1), ('creep', 1), ('down', 1), ('like', 1), ('cat', 1), ('slip', 1), ('out', 1), ('unseen', 1)])\n"
     ]
    }
   ],
   "source": [
    "freq_words_dist = nltk.FreqDist(words)\n",
    "freq_words_dist_arr = freq_words_dist.items()"
   ]
  },
  {
   "cell_type": "code",
   "execution_count": 12,
   "metadata": {},
   "outputs": [],
   "source": [
    "plt.show()"
   ]
  },
  {
   "cell_type": "code",
   "execution_count": null,
   "metadata": {},
   "outputs": [],
   "source": []
  }
 ],
 "metadata": {
  "kernelspec": {
   "display_name": "Python 3",
   "language": "python",
   "name": "python3"
  },
  "language_info": {
   "codemirror_mode": {
    "name": "ipython",
    "version": 3
   },
   "file_extension": ".py",
   "mimetype": "text/x-python",
   "name": "python",
   "nbconvert_exporter": "python",
   "pygments_lexer": "ipython3",
   "version": "3.7.3"
  }
 },
 "nbformat": 4,
 "nbformat_minor": 2
}
